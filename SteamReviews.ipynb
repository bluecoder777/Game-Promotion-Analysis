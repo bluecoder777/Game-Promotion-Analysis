{
 "cells": [
  {
   "cell_type": "markdown",
   "metadata": {},
   "source": [
    "Extracting Review"
   ]
  },
  {
   "cell_type": "code",
   "execution_count": 13,
   "metadata": {},
   "outputs": [],
   "source": [
    "import requests\n",
    "import pandas as pd\n",
    "\n",
    "games = pd.read_csv(\"GamesList.csv\")\n",
    "games = games.set_index(\"id\") "
   ]
  },
  {
   "cell_type": "code",
   "execution_count": 14,
   "metadata": {},
   "outputs": [],
   "source": [
    "def get_reviews(app_id, num_reviews=100):\n",
    "    reviews_list = []\n",
    "    url = f'https://store.steampowered.com/appreviews/{app_id}?json=1&num_per_page=100'\n",
    "    total_reviews_fetched = 0\n",
    "    start_offset = 0\n",
    "\n",
    "    while total_reviews_fetched < num_reviews:\n",
    "        # Update the URL with the start offset to get the next page of reviews\n",
    "        paginated_url = f\"{url}&start_offset={start_offset}\"\n",
    "        response = requests.get(paginated_url)\n",
    "\n",
    "        if response.status_code == 200:\n",
    "            data = response.json()\n",
    "            reviews = data['reviews']\n",
    "\n",
    "            if not reviews:\n",
    "                print(\"No more reviews available for \" + str(games['title'][app_id]))\n",
    "                break\n",
    "\n",
    "            # Add reviews to the list\n",
    "            for review in reviews:\n",
    "                review_text = review['review']\n",
    "                votes_up = review['votes_up']\n",
    "                rating = 'Positive' if review['voted_up'] else 'Negative'\n",
    "\n",
    "                reviews_list.append({\n",
    "                    'Review': review_text,\n",
    "                    'Votes_Up': votes_up,\n",
    "                    'Rating': rating\n",
    "                })\n",
    "\n",
    "            total_reviews_fetched += len(reviews)\n",
    "            start_offset += len(reviews)  # Increment the offset by the number of reviews fetched\n",
    "\n",
    "        else:\n",
    "            print(f\"Failed to retrieve reviews: {response.status_code}\")\n",
    "            break\n",
    "\n",
    "    # Convert the reviews list to a DataFrame\n",
    "    reviews_df = pd.DataFrame(reviews_list[:num_reviews])  # Limit to the requested number of reviews\n",
    "    return reviews_df"
   ]
  },
  {
   "cell_type": "code",
   "execution_count": 61,
   "metadata": {},
   "outputs": [
    {
     "name": "stdout",
     "output_type": "stream",
     "text": [
      "No more reviews available for Bloons TD Battles 2\n",
      "No more reviews available for Goose Goose Duck\n",
      "No more reviews available for Crab Game\n"
     ]
    },
    {
     "data": {
      "text/plain": [
       "<bound method DataFrame.dropna of             Game                                             Review  Votes_Up  \\\n",
       "0      Snakeybus  Don't get me wrong, its a nice game with a coo...       1.0   \n",
       "1      Snakeybus  Amazing concept for a game. Super simple, but ...       0.0   \n",
       "2      Snakeybus  Really complex game, super fun to. It might be...       0.0   \n",
       "3      Snakeybus  This is one of the games you dream about but w...       0.0   \n",
       "4      Snakeybus       Snakeybus. Just look at that title. Genious.       0.0   \n",
       "..           ...                                                ...       ...   \n",
       "295  Bloons TD 6  best game is all i can say (well not best best...       0.0   \n",
       "296  Bloons TD 6  I have 800+ hours extra on epic games. this is...       0.0   \n",
       "297  Bloons TD 6  One of the best tower defense games in my opin...       0.0   \n",
       "298  Bloons TD 6  very fun i really like it a lot do reccomend i...       0.0   \n",
       "299  Bloons TD 6  sniper monkey goes hard. very fun game would r...       0.0   \n",
       "\n",
       "       Rating  \n",
       "0    Negative  \n",
       "1    Positive  \n",
       "2    Positive  \n",
       "3    Positive  \n",
       "4    Positive  \n",
       "..        ...  \n",
       "295  Positive  \n",
       "296  Positive  \n",
       "297  Positive  \n",
       "298  Positive  \n",
       "299  Positive  \n",
       "\n",
       "[10200 rows x 4 columns]>"
      ]
     },
     "execution_count": 61,
     "metadata": {},
     "output_type": "execute_result"
    }
   ],
   "source": [
    "games = pd.read_csv(\"GamesList.csv\")\n",
    "games = games.set_index(\"id\") \n",
    "\n",
    "ReviewsDataFrame = pd.DataFrame({'Game':[],'Review':[],'Votes_Up':[],'Rating':[]})\n",
    "\n",
    "rev_count = 300\n",
    "\n",
    "for id in games.index: \n",
    "    reviews_df = get_reviews(id, num_reviews=rev_count)\n",
    "    if len(reviews_df) > 1:\n",
    "        game_name = []\n",
    "        for i in range(rev_count): \n",
    "            game_name.append(games['title'][id])\n",
    "        reviews_df.insert(0, \"Game\", game_name)\n",
    "        ReviewsDataFrame = pd.concat([ReviewsDataFrame, reviews_df])\n",
    "\n",
    "\n",
    "ReviewsDataFrame.dropna\n",
    "ReviewsDataFrame = ReviewsDataFrame.drop(columns='index')"
   ]
  },
  {
   "cell_type": "code",
   "execution_count": 62,
   "metadata": {},
   "outputs": [
    {
     "data": {
      "text/plain": [
       "10200"
      ]
     },
     "execution_count": 62,
     "metadata": {},
     "output_type": "execute_result"
    }
   ],
   "source": [
    "#ReviewsDataFrame = ReviewsDataFrame.dropna()\n",
    "len(ReviewsDataFrame)"
   ]
  },
  {
   "cell_type": "code",
   "execution_count": 63,
   "metadata": {},
   "outputs": [],
   "source": [
    "ReviewsDataFrame.reset_index(inplace = True)\n",
    "crabdf = (ReviewsDataFrame['Game'] == 'Crab Game')"
   ]
  },
  {
   "cell_type": "code",
   "execution_count": 64,
   "metadata": {},
   "outputs": [
    {
     "data": {
      "text/plain": [
       "array(['Snakeybus', 'Biped', 'Project Winter - Blackout', 'Worms Rumble',\n",
       "       'Wobbly Life', 'Party Animals', 'PICO PARK', 'Perfect Heist 2',\n",
       "       'Stumble Guys', 'Bopl Battle', 'The Riflemen',\n",
       "       'Scribblenauts Unlimited', 'Pit People®', 'Duck Game',\n",
       "       'ShellShock Live', 'Worms W.M.D', 'Ratz Instagib',\n",
       "       'Cat Goes Fishing', 'The Mean Greens - Plastic Warfare',\n",
       "       'Tower Unite', 'Clustertruck', \"Garry's Mod\", \"Who's Your Daddy?!\",\n",
       "       'Human Fall Flat', 'Happy Room', 'Pikuniku',\n",
       "       'Stick Fight: The Game', 'Worms_Ultimate_Mayhem', 'Overcooked! 2',\n",
       "       'Project Winter', 'Super Animal Royale', 'Pummel Party',\n",
       "       'ibb & obb', 'Bloons TD 6'], dtype=object)"
      ]
     },
     "execution_count": 64,
     "metadata": {},
     "output_type": "execute_result"
    }
   ],
   "source": [
    "ReviewsDataFrame['Game'].unique()"
   ]
  },
  {
   "cell_type": "code",
   "execution_count": 72,
   "metadata": {},
   "outputs": [
    {
     "data": {
      "text/html": [
       "<div>\n",
       "<style scoped>\n",
       "    .dataframe tbody tr th:only-of-type {\n",
       "        vertical-align: middle;\n",
       "    }\n",
       "\n",
       "    .dataframe tbody tr th {\n",
       "        vertical-align: top;\n",
       "    }\n",
       "\n",
       "    .dataframe thead th {\n",
       "        text-align: right;\n",
       "    }\n",
       "</style>\n",
       "<table border=\"1\" class=\"dataframe\">\n",
       "  <thead>\n",
       "    <tr style=\"text-align: right;\">\n",
       "      <th></th>\n",
       "      <th>Game</th>\n",
       "      <th>Review</th>\n",
       "      <th>Votes_Up</th>\n",
       "      <th>Rating</th>\n",
       "    </tr>\n",
       "  </thead>\n",
       "  <tbody>\n",
       "    <tr>\n",
       "      <th>0</th>\n",
       "      <td>Snakeybus</td>\n",
       "      <td>Don't get me wrong, its a nice game with a coo...</td>\n",
       "      <td>1.0</td>\n",
       "      <td>Negative</td>\n",
       "    </tr>\n",
       "    <tr>\n",
       "      <th>1</th>\n",
       "      <td>Snakeybus</td>\n",
       "      <td>Amazing concept for a game. Super simple, but ...</td>\n",
       "      <td>0.0</td>\n",
       "      <td>Positive</td>\n",
       "    </tr>\n",
       "    <tr>\n",
       "      <th>2</th>\n",
       "      <td>Snakeybus</td>\n",
       "      <td>Really complex game, super fun to. It might be...</td>\n",
       "      <td>0.0</td>\n",
       "      <td>Positive</td>\n",
       "    </tr>\n",
       "    <tr>\n",
       "      <th>3</th>\n",
       "      <td>Snakeybus</td>\n",
       "      <td>This is one of the games you dream about but w...</td>\n",
       "      <td>0.0</td>\n",
       "      <td>Positive</td>\n",
       "    </tr>\n",
       "    <tr>\n",
       "      <th>4</th>\n",
       "      <td>Snakeybus</td>\n",
       "      <td>Snakeybus. Just look at that title. Genious.</td>\n",
       "      <td>0.0</td>\n",
       "      <td>Positive</td>\n",
       "    </tr>\n",
       "    <tr>\n",
       "      <th>...</th>\n",
       "      <td>...</td>\n",
       "      <td>...</td>\n",
       "      <td>...</td>\n",
       "      <td>...</td>\n",
       "    </tr>\n",
       "    <tr>\n",
       "      <th>10195</th>\n",
       "      <td>Bloons TD 6</td>\n",
       "      <td>best game is all i can say (well not best best...</td>\n",
       "      <td>0.0</td>\n",
       "      <td>Positive</td>\n",
       "    </tr>\n",
       "    <tr>\n",
       "      <th>10196</th>\n",
       "      <td>Bloons TD 6</td>\n",
       "      <td>I have 800+ hours extra on epic games. this is...</td>\n",
       "      <td>0.0</td>\n",
       "      <td>Positive</td>\n",
       "    </tr>\n",
       "    <tr>\n",
       "      <th>10197</th>\n",
       "      <td>Bloons TD 6</td>\n",
       "      <td>One of the best tower defense games in my opin...</td>\n",
       "      <td>0.0</td>\n",
       "      <td>Positive</td>\n",
       "    </tr>\n",
       "    <tr>\n",
       "      <th>10198</th>\n",
       "      <td>Bloons TD 6</td>\n",
       "      <td>very fun i really like it a lot do reccomend i...</td>\n",
       "      <td>0.0</td>\n",
       "      <td>Positive</td>\n",
       "    </tr>\n",
       "    <tr>\n",
       "      <th>10199</th>\n",
       "      <td>Bloons TD 6</td>\n",
       "      <td>sniper monkey goes hard. very fun game would r...</td>\n",
       "      <td>0.0</td>\n",
       "      <td>Positive</td>\n",
       "    </tr>\n",
       "  </tbody>\n",
       "</table>\n",
       "<p>10200 rows × 4 columns</p>\n",
       "</div>"
      ],
      "text/plain": [
       "              Game                                             Review  \\\n",
       "0        Snakeybus  Don't get me wrong, its a nice game with a coo...   \n",
       "1        Snakeybus  Amazing concept for a game. Super simple, but ...   \n",
       "2        Snakeybus  Really complex game, super fun to. It might be...   \n",
       "3        Snakeybus  This is one of the games you dream about but w...   \n",
       "4        Snakeybus       Snakeybus. Just look at that title. Genious.   \n",
       "...            ...                                                ...   \n",
       "10195  Bloons TD 6  best game is all i can say (well not best best...   \n",
       "10196  Bloons TD 6  I have 800+ hours extra on epic games. this is...   \n",
       "10197  Bloons TD 6  One of the best tower defense games in my opin...   \n",
       "10198  Bloons TD 6  very fun i really like it a lot do reccomend i...   \n",
       "10199  Bloons TD 6  sniper monkey goes hard. very fun game would r...   \n",
       "\n",
       "       Votes_Up    Rating  \n",
       "0           1.0  Negative  \n",
       "1           0.0  Positive  \n",
       "2           0.0  Positive  \n",
       "3           0.0  Positive  \n",
       "4           0.0  Positive  \n",
       "...         ...       ...  \n",
       "10195       0.0  Positive  \n",
       "10196       0.0  Positive  \n",
       "10197       0.0  Positive  \n",
       "10198       0.0  Positive  \n",
       "10199       0.0  Positive  \n",
       "\n",
       "[10200 rows x 4 columns]"
      ]
     },
     "execution_count": 72,
     "metadata": {},
     "output_type": "execute_result"
    }
   ],
   "source": [
    "ReviewsDataFrame = ReviewsDataFrame.drop(columns='index')\n",
    "ReviewsDataFrame"
   ]
  },
  {
   "cell_type": "code",
   "execution_count": 73,
   "metadata": {},
   "outputs": [],
   "source": [
    "ReviewsDataFrame.to_csv(\"Steam_Reviews_Data.csv\")"
   ]
  }
 ],
 "metadata": {
  "kernelspec": {
   "display_name": "Python 3",
   "language": "python",
   "name": "python3"
  },
  "language_info": {
   "codemirror_mode": {
    "name": "ipython",
    "version": 3
   },
   "file_extension": ".py",
   "mimetype": "text/x-python",
   "name": "python",
   "nbconvert_exporter": "python",
   "pygments_lexer": "ipython3",
   "version": "3.11.3"
  }
 },
 "nbformat": 4,
 "nbformat_minor": 2
}
