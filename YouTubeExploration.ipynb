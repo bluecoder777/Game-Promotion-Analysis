{
 "cells": [
  {
   "cell_type": "code",
   "execution_count": 19,
   "metadata": {},
   "outputs": [],
   "source": [
    "import pandas as pd"
   ]
  },
  {
   "cell_type": "markdown",
   "metadata": {},
   "source": [
    "Import and Create List of Youtube Channels"
   ]
  },
  {
   "cell_type": "code",
   "execution_count": 20,
   "metadata": {},
   "outputs": [
    {
     "data": {
      "text/plain": [
       "array(['DanTDM', 'Ctop', 'Camodo Gaming', 'Sam Tabor Gaming',\n",
       "       'Markiplier', 'Xbox', 'Johny Shows', 'GTLive', 'PlayStation',\n",
       "       'FGTeeV', 'jacksepticeye', 'Stovetop Studios', 'Gawbe', 'Fynnpire',\n",
       "       'LetsPlay', 'EFtheDutch', 'CO5TELLO', 'Beautiful OB',\n",
       "       'SwitchStars', 'PlatGet', 'PREZLEY', 'windy31', 'IGN', 'Zony',\n",
       "       'Csúb - Az Űrmedve', 'Mastah_Pete', 'Many A True Nerd',\n",
       "       'игровой канал Чарли Фрая', 'Call Me Kevin', 'xenomancer', 'Paqpa',\n",
       "       'Natillumi', 'HorizontalDuck', 'Writing on Games',\n",
       "       'Guillaume Brien', 'Nintendo of America', 'RTGame',\n",
       "       'I Dream of Indie Games', 'Throneful', 'Wanderbots',\n",
       "       'PlayStation Europe', 'QuarterJade', '猫真いと', 'notverlis',\n",
       "       'Failboat', 'LimX Dynamics', 'Noisy Pixel', 'Stumpt',\n",
       "       'NExT Studios', 'XuHu Gaming', 'The Frustrated Gamer', 'COLAS',\n",
       "       'Beefy Smash Doods', 'Gematsu',\n",
       "       'Biomechatronics and Intelligent Robotics Lab',\n",
       "       'UT Human Centered Robotics Lab', 'GameCornerZ', 'Sunnymuffin',\n",
       "       'JHS', 'Luke TheNotable', 'أوسمز oCMz', 'Крошка Ева',\n",
       "       'Kaiffu Live', 'The Kennedy Center', 'SQUEEZIE GAMING',\n",
       "       'RTA in Japan', 'META Publishing', 'DisneyResearchHub',\n",
       "       'Interesting Engineering', 'Technovation Projects',\n",
       "       'Wholesome Games', 'Candlemations Music', 'ViteC ► Play',\n",
       "       'PlayStation Asia', 'The Overseer ', '花江夏樹', 'Alexander Zynx',\n",
       "       'Guinness World Records', 'Мишка и Юля', 'Cleansound Studio',\n",
       "       'Ryo Figo', 'ChilledChaosGAME', 'TheStellarJay',\n",
       "       'Other Ocean Interactive', 'Squaye', 'GhostyKJ', 'ZeRoyalViking',\n",
       "       'Kara Games', 'Carman Dirda', 'The mosters toster',\n",
       "       'Jumperpiggy Games', 'ArchJP', 'Bladii', 'Graeme Games',\n",
       "       'Novasile', 'Stealth Banana', 'Project COE', 'Hooded',\n",
       "       'Guffy Bear', 'HeyItsMePizzaDog', 'Jireh Torres', 'CNPDave',\n",
       "       'BYZE', 'ArtReinjer', 'RichardYT', 'Inspirer Games',\n",
       "       \"Knight's Arcade\", 'Kinder Play', 'SLEP', 'Benstekar',\n",
       "       'H2ODelirious', 'GamingBolt', 'XCageGame', 'SwitchUp', 'CaRtOoNz',\n",
       "       'Louay Khemiri', 'Team17', 'EurogamerGermany', 'Handheld Players',\n",
       "       'Blitz', 'JUEST PK', 'PlayStation Australia', 'Wormls',\n",
       "       'Vy-Starix ', 'PS360HD', 'ASSASIN_K-I-D', 'FUNnel Boy & Friends',\n",
       "       'GassyMexican', 'T4jke', '8BE', 'MoonManKelvin', 'Malachi Caraway',\n",
       "       'TimeToGrind', 'RTS Battle Room', 'DadlyGamerTV', 'PC Games',\n",
       "       'Christian Torres', 'farfromsubtle', 'PlayStation Japan',\n",
       "       'Hat Gaming', 'Montalvão', '⋐A Hollow Contranym⋑', 'Zzacharoni',\n",
       "       'Luckyfeet', 'JERE', 'AllGamesWorldHd', 'Nintendo UK', 'Big Stink',\n",
       "       'Larry Clayton', 'SpyCakes', 'Maze', 'AstroFort',\n",
       "       'RubberBandGames', 'tommohawkaction (tommohawkaction)',\n",
       "       'Kindly Keyin', 'Arazhul', 'Odo Kentang', 'InvertOG', 'SMii7Y',\n",
       "       'Vicksy', 'Party Animals', 'Smosh Games', 'VanossGaming',\n",
       "       'The8Bittheater', 'Nat Geo Kids', 'Flamingo', 'Grizzy',\n",
       "       'The Boys Gaming', 'ItsFunneh', 'Derk', 'Fudgy',\n",
       "       'Dangthatsalongname', 'Slogo', 'Rhymestyle', 'Mr. Fruit',\n",
       "       'v Mamacita', 'CharlyBlackVEVO', 'SMii7Yplus', 'The Party Animals',\n",
       "       'WhackyCast', 'LordMinion777', 'PewDiePie', 'SMii7Yminus',\n",
       "       'PolarCub', 'Furo', 'TechyCrew', 'Boltrix', 'Ryan Mehalic',\n",
       "       'SSundee', 'Tewbre', 'Rico The Giant', 'Disguised Toast',\n",
       "       'OfflineTV & Friends Fans', 'Nexith', 'Grian', 'special edd',\n",
       "       'teco park', 'Animators VS Games', 'Socksfor2', 'LaurenzLIVEside',\n",
       "       'Rivers', 'Two Much Grian', 'RDC Live', 'alanzoka', 'Memey',\n",
       "       'Streamer Moments', 'LankyBox', 'Ray Narvaez Jr', 'GameToons',\n",
       "       'Bigpuffer', 'LaurenZside', 'Gloom', 'MoreGrizzy', 'Teo',\n",
       "       'Mithzan', 'Dokibird', 'Sigils', 'Daily Dose Of OTV', 'JeromeASF',\n",
       "       'match masters', 'Kaif', 'JeromeACE', 'Dizoff', 'Best Of SSundee',\n",
       "       'Biffle', 'Jerome LIVE', 'Scruffman', 'Caylus  ', 'VEGETTA777',\n",
       "       'The Yogscast', 'BasicallyIDoWrk', 'PietSmiet', 'JeromeASF Movies',\n",
       "       'Salt Raiders', 'Crew Mars', 'Blauski', 'Valkyrae2', 'Zud', 'ERAY',\n",
       "       'ELmoez - المعز', 'Лучшее с T2x2', 'GarryBlox', 'Gaggle Studios',\n",
       "       'Souzones', 'Нарезки Стинта', 'CTS Live', 'MixiGaming',\n",
       "       'gela perna ', 'MinnDak Outdoors', 'Aung Paing Cho',\n",
       "       'Two Players One Console', 'Орк-подкастер [cтримы]', 'MarweX',\n",
       "       'Elraenn', 'Barış Can', 'IceBlueBird', 'Нарезочки от Орче',\n",
       "       'More Luke', 'BabyYoda_TV', 'Coral', 'Mang Yellow',\n",
       "       'Mobile Arcade', 'Blade YT', 'Ilham Suganda', 'Bkt1039',\n",
       "       'JONBTC JUEGA', 'AJIK Z', 'ApelaoGamer BR 329', 'EoOnG Gaming',\n",
       "       'vabqa', 'MagLobao', 'Sahrul Rajuan', 'Jonbtc', 'Gxstavo7',\n",
       "       'YUSOKI', 'Pabllym', 'AheedPlayzz2.0', 'DotoDoya',\n",
       "       'Johan Grönvall - Zapray Games', 'Phunix', 'TheMoltenPhantom',\n",
       "       'EEGAR', 'Bopl Bros', 'Neebs Magic Dumpster', 'zero1two3',\n",
       "       'AQUISI', 'jvnq', 'Silvio Gamer', 'Ycro', 'DeaDem', 'CoryxKenshin',\n",
       "       'DaniClips', 'penguinz0', 'Kubz Scouts', 'Dani', 'InterndotGif',\n",
       "       'skereh', '8-BitRyan', 'Etoile et Soup',\n",
       "       'Ceres Fauna Ch. hololive-EN', 'The Boys React', 'Ludwig',\n",
       "       'Pokimane', 'Aggro Crab', 'Polritz', 'eezyTV', 'Nerrev',\n",
       "       'Corpse Husband', 'xQc', 'Sketch', 'Limealicious', 'ImCade',\n",
       "       'Matara Kan', 'SapnapLIVE', 'Denis', 'Sykkuno', 'Slimecicle VODS',\n",
       "       'BisteconeLive', 'WILDCAT', 'FilmRise Television', 'Crackle',\n",
       "       'Bonus Stage Publishing', 'TCON',\n",
       "       'ISSF - International Shooting Sport Federation', 'Film Movement',\n",
       "       'Survive History', 'Royal Gaming', 'Manic Movies', 'RumbleRodz13',\n",
       "       'Emppi', 'Jonsandman Plays', 'Sharpe', 'MAZAVS - Games Channel',\n",
       "       'NORMOGAMES', 'UniQverse', 'ReviewGame', 'The Riflemen Las Vegas',\n",
       "       'DEMO GAMER PC', 'TheLabVideoGameTV', 'Ingen',\n",
       "       'Bobby Horton - Topic', 'Equal Vision Records', 'Canal gameplay',\n",
       "       'Nomadic Meow', 'itFredda', 'Hillbilly Daddy', 'MAJORRZKEN',\n",
       "       'Melody Jett Werner', 'RADIOACTIVEBOYZZ', 'Ranmak', 'FOH',\n",
       "       'folkingdotcom', 'Birdie_1991 Gaming.',\n",
       "       'Down In The Bottoms with Marc Smith', 'Danny Malkam Drew',\n",
       "       'TheBaldMan', 'CHRBRG', 'choopo', 'Ngulik Games',\n",
       "       'Jerma Stream Archive', 'EthanGamer', 'Indoor Window',\n",
       "       'CaptainSauce', 'Dorkly', 'ParashockX', 'Warner Bros. Games',\n",
       "       'SpiffyXTG', 'Oblong Lobster', 'Chris Portal',\n",
       "       'World of Warner Bros.', 'Giant Bomb', 'officialnintendomag',\n",
       "       'SOFTDRINKTV', 'Scribblenauts Guide', 'Orayo Gaming', 'VG247.com',\n",
       "       'stripes', 'OfficialNerdCubed', 'Mega64', 'Zayed Gaming',\n",
       "       'The Behemoth', 'DunderHeads', 'BoredomNation',\n",
       "       'MrTwisterWasTaken', 'Reckerless', 'GameSpot Trailers',\n",
       "       'Rayaan.Gani.27', 'BaronVonGames', 'NekoNe',\n",
       "       'Patric Catani - Topic', 'Icy Gaming', 'Tay the titan', 'Delta',\n",
       "       'SergiuHellDragoonHQ', 'Northernlion', 'AngryJoeShow',\n",
       "       'Sound Lagoon', 'WeeklyLight', 'LFP Gaming', 'Bob Lennon',\n",
       "       'JJ RETRO', '3GordosB', 'The Buck Man', 'Jesse Cox', 'Тиджой',\n",
       "       'videogamedunkey', 'Sleep Deprived', 'Floydson', 'Adult Swim',\n",
       "       'Fisk', 'Casual Potatoes', 'TOYLAND',\n",
       "       \"Patty Shukla Kids TV - Children's songs\", 'Neebs Gaming', 'Therm',\n",
       "       'GameGrumps', 'mikeburnfire', 'CY YU VODS',\n",
       "       'Cherry Pop Productions', 'Fowl Play',\n",
       "       \"CoComelon JJ's Animal Time - Nursery Rhymes\", '1 Toys', 'PeeGTV',\n",
       "       'Beyond the Summit - Smash', 'El Mariana', 'NintendoComplete',\n",
       "       'Expand Dong Man', 'DreamGang',\n",
       "       'ZellenDos - ZellenDust en version extendida (GAMEPLAYS)',\n",
       "       'WILDCARD', 'Funny Group.', 'ZellenDust', 'DangerouslyFunny',\n",
       "       \"Ryan's World\", 'Dan. - Shellshock Live', 'KYRSP33DY',\n",
       "       'BigJigglyPanda', 'MoreSidemen', 'Kryoz', 'SLG', 'Vikkstar123',\n",
       "       'ChilledChaos', 'Snedgie', 'Jelly', 'ComplexOri', 'Yumi',\n",
       "       'WorstPremadeEver', 'SwitchWatch', 'Hat Films', 'WPE Extras',\n",
       "       'Worms Pro Hub', 'JoCat', 'PlayFrame', 'RageGamingVideos',\n",
       "       'Vinesauce: The Full Sauce', 'xQc Gaming ', 'Kirill Gamer',\n",
       "       'StopGame', 'Jerma985', 'Leadhead', 'Herpes Fairy', 'Levmo',\n",
       "       'Breadon', 'Scav Merchant Hub', 'xTrashboi', 'Lino Slahuschek',\n",
       "       'zurv2', 'Austin Blythe', 'Gety', 'Nerd Psycho', 'Ryu 5K',\n",
       "       'Rarebyte', 'SnoozyFlex', 'God is a Geek', 'Hand Drawn Nerd',\n",
       "       'Josh can clip', 'Games Preview HD', 'Fishy!', 'onenineonline',\n",
       "       'Oscar Armstrong', 'Heavy Metal Gamer Show', 'BeardLessMage',\n",
       "       'Carpythesharky', 'Jon Sandman', 'Demon27248', 'Aegis',\n",
       "       'RayThePony', 'deluxe.mp4', 'Unhinged Gamer', 'OnlineFpsGames',\n",
       "       'FranziskaFPS', 'Lukey Pooky', 'Amy Molinaro',\n",
       "       'Sky... // Gaming and /wsg/', 'math god', 'Robotnik35', 'tarcseh',\n",
       "       'MissehsJune', 'Deathtraim', 'Zesty Jesus', 'Grant Duchars',\n",
       "       'Brascus', 'GrayStillPlays', 'Pungence', 'ProjectJamesify',\n",
       "       'SELF-MADE FISHING-TV', 'The Yellow Carp', 'VitaminDelicious',\n",
       "       'Saxu', 'EazySpeezy', 'Melon Sunny World', 'Classic PC Games',\n",
       "       'Calumity', 'ElkinFencer10', 'Spicy Chicken God',\n",
       "       \"Ice's Gaming Vault\", 'MathChief - The Best of Gaming!', 'ID@Xbox',\n",
       "       'Snoley Games', 'Raku', 'ZerkaaPlays', 'TheBrokenMachine',\n",
       "       'ALL GAMING AREAS', 'Catallego', 'Infinite Backlog',\n",
       "       'BulletGang45', 'SwingPoynt', 'GeneralMcBadass', 'Cheevo Guides',\n",
       "       'TheRazoredEdge', 'MissionStory', 'Zopelix', 'JayTC',\n",
       "       'OFFLINE BOTS', 'Real Gamer Girl', 'Steve Dog Wildman',\n",
       "       'HeTe_ STOFZUIGER', 'Art1Sh0k', 'QuelTaleAle', 'DANNYonPC',\n",
       "       'ANONIMO101', 'LioN KoLLA', 'Mike Rxqe', 'Bitgamer',\n",
       "       'Gareth Coker - Topic', 'Virtual Basement', 'Mamowset Gaming',\n",
       "       'GameInOnline', 'Dog Dad Studios ', 'Nxcturnal', 'Marcelame',\n",
       "       'Zach Fuller', 'Richter Overtime', 'SoundSmith',\n",
       "       'Di & Da Game Fun', 'JameskiiLive', 'Jameskii', 'Arcade Duskk',\n",
       "       'Tower Community', 'Iced Coffee', 'Cubold Gaming', 'Darkbeak',\n",
       "       \"WarriorDan- Game Reviews and Let's Plays\", 'Real Pepega',\n",
       "       'Goldbullet Ch. HOLOSTARS-EN', 'PixelTail Games',\n",
       "       \"Furkan Burak 'FBBTV' Bayrak\", 'Codyumm 2', 'AmILateToTheParty',\n",
       "       'Drae', 'Nogla', 'wayneradiotv ON DEMAND', 'Kwebbelkop', 'BRS',\n",
       "       'Shafournee', 'EmilySailor', 'Spedicey', 'Kaine Cummings',\n",
       "       'Lunar and Earth Show', 'J0daa', 'UnderFire', 'Ninonet',\n",
       "       'Landfall', '8rgk', 'CosmicShiny', 'Flook611', 'LazarBeam',\n",
       "       'tinyBuildGAMES', 'The Escapist', 'WhyBeAre', 'yummycrayons',\n",
       "       'GamingWithKev', 'SQUEEZIE', 'YuB', 'Thinknoodles',\n",
       "       'Random Game Reviews', 'Aliensrock', 'No Copyright Gameplay Uddip',\n",
       "       'reptil161', 'Wolfy Playz', 'SHOOTABIRDIE', 'NecrosVideos',\n",
       "       'KinGmod', 'Eltorro64Rus', 'Coty', 'JustJoeKing', 'Panda Gamer',\n",
       "       \"GH'S\", 'Lotos Gmod', 'Game Facts', 'eddygar', 'Рыжий', 'Pretzel',\n",
       "       'TheFrizkyFrog', 'Kelski', 'Oni GameGiggler', 'Endy', 'Goldicus',\n",
       "       'Kixmod', 'GLIZZAB PLAY', 'Tapliasmy', 'SHORTS GMOD', 'OofyMan212',\n",
       "       'CCSAVEGAMING', 'tsetst', 'Thoelian', 'Gmod Master', 'DRЫNDA',\n",
       "       \"Who's Your Daddy?!\", 'dakblake', 'TobyKeithVEVO',\n",
       "       'Maggi Masala Gaming', 'Patricia Gorman', 'Aphmau', 'Hopper',\n",
       "       'Noodlez', 'smots🐟', 'PERUVEN (Jorge Fuxá)', 'VleFromTheVAE',\n",
       "       'Bubbles', 'MessYourself', 'Gara Plays', 'Melon and Sunny',\n",
       "       'Sunny Melon World', 'NoBrakesGames', 'Mehditation',\n",
       "       'DevolverDigital', 'NeoGamer - The Video Game Archive',\n",
       "       'Vlogs4FUN', 'Carlos 7070', 'Bulkin',\n",
       "       'Carrot Helper - 100% Walkthroughs | No Commentary', 'Blox4Fun',\n",
       "       'Retr0virus11', 'J Rob', 'Curve Games', 'CookieSwirlC',\n",
       "       'K-City Gaming', 'Scredge', 'Happy Home Vibes', 'BeckBroPlays',\n",
       "       'Mob Entertainment', 'Vicio ONE MORE TIME!!!!', 'Plech',\n",
       "       'SpJockey', 'Gabby16bit', 'Hunter R.', 'StundZow', 'TheLoneGamer',\n",
       "       'ZackScottGames', 'Encrypted Duck', 'CharlieBarley',\n",
       "       'Boss Fight Database', \"Let's Game It Out\", '꧁☆Davi☆꧂', 'Melvitos',\n",
       "       'Snipey', 'Foekoe', 'Zebra Gamer', 'Pirate Software',\n",
       "       'Local Goober', 'AnythingBecomeMoe', 'World English School Today!',\n",
       "       'TeshiiLatte', 'BluezKaito', 'JFJ', 'Arnaud DE BOCK',\n",
       "       'Beat That Boss', 'CrabApples', 'NOBS', 'Solninja A', 'berleezy',\n",
       "       'Stick Blitz', 'Slmccl', 'Saofiqlord', 'Underdogs Gaming',\n",
       "       'SlicedAero', 'Games For Kids Hub', 'Emerald Masters',\n",
       "       'Quantum Games', 'TapGameplay', 'Nindie Spotlight',\n",
       "       'Valera Ghosther', 'IkxGP', 'GameSpot', 'Old Worm Ray',\n",
       "       'GameTrailers', 'Simo K', 'RingsOfGeonosis', 'Juze', 'Boggy',\n",
       "       'V4mpX', 'OneGamerHub', \"Doctor O'lolo\", 'Maxmations',\n",
       "       'XboxViewTV', 'ABC Big Kids', 'EpicVG', 'Marwol Cwningen',\n",
       "       'GameAddict', 'The Foreseen Arcade', \"Dave's Gaming\",\n",
       "       'PATRIARCHAL GAMING', 'Jimmymacawoo', '88K GM', 'VoiceoverGuy',\n",
       "       'DWormkiller', 'sir enuf', 'Ravenousky', 'Magnet', 'Slushy Noobz',\n",
       "       'Subi_OM', 'Loem', 'hpmv', 'BuzzFeed Multiplayer', 'DT Dai',\n",
       "       'Solidarity VODS', 'Bricky EP. 2', '我超甜的OuO', 'tom',\n",
       "       'Eclipse and Puppet Show', 'BYZE EXTRA', 'RanbooVODS',\n",
       "       \"MGC Let's Play\", 'Good Mythical MORE', 'DanAndPhilGAMES',\n",
       "       'Fulgur Ovid 【NIJISANJI EN】', 'JcCaylenVODS', 'Two Moons Gaming',\n",
       "       \"Shoto's Twitch VODs\", 'KnZPlay', 'Slimecicle', 'General Sam',\n",
       "       'FuwaFuwaSeal', 'To The Point', 'SeeReax', 'CallMeCarsonLIVE',\n",
       "       'DylanConi', 'Vantacrow Bringer 【NIJISANJI EN】', 'DumbDog Vods',\n",
       "       'Jurunrishi', 'CigaretteS TV', '橘ひなの / Hinano Tachibana',\n",
       "       'Fake DotoDoya Vods', 'Hayashii Lives | Cortes e VODs',\n",
       "       'Shining Star Translations', 'Claude Clawmark 【NIJISANJI EN】',\n",
       "       'caiof42', 'arbuzovich', 'CaptainBara', 'Pixile Studios',\n",
       "       'CapyRap62', 'Ohmwrecker / Maskedgamer', 'The LA Gamer',\n",
       "       'Busterpumkin', 'Dills The Axolotl', 'paxen plays games',\n",
       "       'MightyMacca', 'Ruki SAR', 'froggycrossing', 'colonel John',\n",
       "       'Puddleshine', 'rvreqTheSheepo', 'Strixiel Dreemr', 'LiamxF',\n",
       "       'catbaux', 'RebuiltGames', 'Shinobi Lockstep', 'CouRage',\n",
       "       'McNastier', 'Party Crashers', 'Solidarity', 'Sossage Party',\n",
       "       'BARAA', 'PG', 'loltyler1', 'Asmongold Gaming', 'YourRAGE Gaming',\n",
       "       'TimTheTatman', 'julien 2', 'Nexxuz World', 'Zsozeatya VOD',\n",
       "       'Felipe Neto', 'ZooMaa Live', 'sparpweed', 'Raiin', '三七百アメ',\n",
       "       'Nintendo World Report TV', 'ClassicalPan', 'C Petti',\n",
       "       'SUBWAY CIRCUIT', 'The Co-op Mode', 'LtFlashfire', 'Controle Dois',\n",
       "       'benstephens56', 'Mystic', 'MadMorph', 'Game & Gig',\n",
       "       'CaptureRapture', 'Natalie', '화난고양이', 'Visual Novel TV',\n",
       "       'AchievementHuntersAnon', 'myke420247', 'KipCast',\n",
       "       'Binglesquirk Uppercase', 'BroDUDEgamer', 'ActualAzza',\n",
       "       'M.O.D. Gamers', 'ISAB', 'Ethan Reid', 'Dabloon', 'Hbomb',\n",
       "       'Tewtiy', 'SsethTzeentach', 'Buzlaitir', 'TheNeoGod', 'SJB',\n",
       "       'Raxzor', 'Mehalic POPs', 'Ninja Kiwi', 'TheManBeHisLa',\n",
       "       'bloon room', 'BTD6 Fenix', 'OrangE', 'MackanRules'], dtype=object)"
      ]
     },
     "execution_count": 20,
     "metadata": {},
     "output_type": "execute_result"
    }
   ],
   "source": [
    "youtubers = pd.read_csv(\"youtube_videos.csv\")\n",
    "ytChannels = youtubers['Channel Name'].unique()\n",
    "ytChannels"
   ]
  },
  {
   "cell_type": "markdown",
   "metadata": {},
   "source": [
    "### Import Reddit Data and check youtubers against youtube related Data"
   ]
  },
  {
   "cell_type": "code",
   "execution_count": 21,
   "metadata": {},
   "outputs": [
    {
     "name": "stderr",
     "output_type": "stream",
     "text": [
      "<>:1: SyntaxWarning: invalid escape sequence '\\p'\n",
      "<>:2: SyntaxWarning: invalid escape sequence '\\p'\n",
      "<>:3: SyntaxWarning: invalid escape sequence '\\p'\n",
      "<>:4: SyntaxWarning: invalid escape sequence '\\p'\n",
      "<>:5: SyntaxWarning: invalid escape sequence '\\p'\n",
      "<>:1: SyntaxWarning: invalid escape sequence '\\p'\n",
      "<>:2: SyntaxWarning: invalid escape sequence '\\p'\n",
      "<>:3: SyntaxWarning: invalid escape sequence '\\p'\n",
      "<>:4: SyntaxWarning: invalid escape sequence '\\p'\n",
      "<>:5: SyntaxWarning: invalid escape sequence '\\p'\n",
      "C:\\Users\\afvm3\\AppData\\Local\\Temp\\ipykernel_38512\\3907711667.py:1: SyntaxWarning: invalid escape sequence '\\p'\n",
      "  csv_addresses = ['Bopl_Battle data\\processed_youtube_relevant_Bopl_Battle.csv',\n",
      "C:\\Users\\afvm3\\AppData\\Local\\Temp\\ipykernel_38512\\3907711667.py:2: SyntaxWarning: invalid escape sequence '\\p'\n",
      "  'crabgame data\\processed_youtube_relevant_crabgame.csv',\n",
      "C:\\Users\\afvm3\\AppData\\Local\\Temp\\ipykernel_38512\\3907711667.py:3: SyntaxWarning: invalid escape sequence '\\p'\n",
      "  'Partyanimals data\\processed_youtube_relevant_PartyAnimalsGame.csv',\n",
      "C:\\Users\\afvm3\\AppData\\Local\\Temp\\ipykernel_38512\\3907711667.py:4: SyntaxWarning: invalid escape sequence '\\p'\n",
      "  'RatzInstagib data\\processed_youtube_relevant_RatzInstagib.csv',\n",
      "C:\\Users\\afvm3\\AppData\\Local\\Temp\\ipykernel_38512\\3907711667.py:5: SyntaxWarning: invalid escape sequence '\\p'\n",
      "  'worms data\\processed_youtube_relevant_worms.csv']\n"
     ]
    }
   ],
   "source": [
    "csv_addresses = ['Bopl_Battle data\\processed_youtube_relevant_Bopl_Battle.csv',\n",
    "                 'crabgame data\\processed_youtube_relevant_crabgame.csv', \n",
    "                 'Partyanimals data\\processed_youtube_relevant_PartyAnimalsGame.csv', \n",
    "                 'RatzInstagib data\\processed_youtube_relevant_RatzInstagib.csv', \n",
    "                 'worms data\\processed_youtube_relevant_worms.csv']\n",
    "\n",
    "\n",
    "youtuber_related_post_dict = {}\n",
    "\n",
    "for csv_file in csv_addresses: \n",
    "    \n",
    "    for y in ytChannels:\n",
    "        current_file = pd.read_csv(csv_file)\n",
    "\n",
    "        for t in current_file['title']:\n",
    "            if type(t) == str: \n",
    "                tokenised = t.split(\" \") \n",
    "                if y in tokenised: \n",
    "                    if y not in youtuber_related_post_dict.keys():\n",
    "                        youtuber_related_post_dict[y] = 1\n",
    "                    else: \n",
    "                        youtuber_related_post_dict[y] = youtuber_related_post_dict[y] + 1\n",
    "\n",
    "        for b in current_file['body']: \n",
    "            if type(b) == str:\n",
    "                tokenised = b.split(\" \")\n",
    "                if y in tokenised: \n",
    "                    if y not in youtuber_related_post_dict.keys():\n",
    "                        youtuber_related_post_dict[y] = 1\n",
    "                    else: \n",
    "                        youtuber_related_post_dict[y] = youtuber_related_post_dict[y] + 1"
   ]
  },
  {
   "cell_type": "code",
   "execution_count": 22,
   "metadata": {},
   "outputs": [
    {
     "data": {
      "text/plain": [
       "{'Xbox': 20,\n",
       " 'Dani': 4,\n",
       " 'Vicksy': 2,\n",
       " 'tom': 1,\n",
       " 'Jerma985': 1,\n",
       " 'PlayStation': 4,\n",
       " 'Team17': 21,\n",
       " 'Boggy': 1}"
      ]
     },
     "execution_count": 22,
     "metadata": {},
     "output_type": "execute_result"
    }
   ],
   "source": [
    "youtuber_related_post_dict"
   ]
  },
  {
   "cell_type": "markdown",
   "metadata": {},
   "source": [
    "### Import Reddit Data and check youtubers against general reddit data"
   ]
  },
  {
   "cell_type": "code",
   "execution_count": 23,
   "metadata": {},
   "outputs": [
    {
     "name": "stderr",
     "output_type": "stream",
     "text": [
      "<>:1: SyntaxWarning: invalid escape sequence '\\B'\n",
      "<>:2: SyntaxWarning: invalid escape sequence '\\c'\n",
      "<>:3: SyntaxWarning: invalid escape sequence '\\P'\n",
      "<>:4: SyntaxWarning: invalid escape sequence '\\R'\n",
      "<>:5: SyntaxWarning: invalid escape sequence '\\w'\n",
      "<>:1: SyntaxWarning: invalid escape sequence '\\B'\n",
      "<>:2: SyntaxWarning: invalid escape sequence '\\c'\n",
      "<>:3: SyntaxWarning: invalid escape sequence '\\P'\n",
      "<>:4: SyntaxWarning: invalid escape sequence '\\R'\n",
      "<>:5: SyntaxWarning: invalid escape sequence '\\w'\n",
      "C:\\Users\\afvm3\\AppData\\Local\\Temp\\ipykernel_38512\\1302295564.py:1: SyntaxWarning: invalid escape sequence '\\B'\n",
      "  csv_addresses = ['Bopl_Battle data\\Bopl_Battle.csv',\n",
      "C:\\Users\\afvm3\\AppData\\Local\\Temp\\ipykernel_38512\\1302295564.py:2: SyntaxWarning: invalid escape sequence '\\c'\n",
      "  'crabgame data\\crabgame.csv',\n",
      "C:\\Users\\afvm3\\AppData\\Local\\Temp\\ipykernel_38512\\1302295564.py:3: SyntaxWarning: invalid escape sequence '\\P'\n",
      "  'Partyanimals data\\PartyAnimalsGame.csv',\n",
      "C:\\Users\\afvm3\\AppData\\Local\\Temp\\ipykernel_38512\\1302295564.py:4: SyntaxWarning: invalid escape sequence '\\R'\n",
      "  'RatzInstagib data\\RatzInstagib.csv',\n",
      "C:\\Users\\afvm3\\AppData\\Local\\Temp\\ipykernel_38512\\1302295564.py:5: SyntaxWarning: invalid escape sequence '\\w'\n",
      "  'worms data\\worms.csv']\n"
     ]
    }
   ],
   "source": [
    "csv_addresses = ['Bopl_Battle data\\Bopl_Battle.csv',\n",
    "                 'crabgame data\\crabgame.csv', \n",
    "                 'Partyanimals data\\PartyAnimalsGame.csv', \n",
    "                 'RatzInstagib data\\RatzInstagib.csv', \n",
    "                 'worms data\\worms.csv']\n",
    "\n",
    "\n",
    "general_reddit_yt_dict = {}\n",
    "\n",
    "for csv_file in csv_addresses: \n",
    "    \n",
    "    for y in ytChannels:\n",
    "        current_file = pd.read_csv(csv_file)\n",
    "\n",
    "        for t in current_file['title']:\n",
    "            if type(t) == str: \n",
    "                tokenised = t.split(\" \") \n",
    "                if y in tokenised: \n",
    "                    if y not in general_reddit_yt_dict.keys():\n",
    "                        general_reddit_yt_dict[y] = 1\n",
    "                    else: \n",
    "                        general_reddit_yt_dict[y] = general_reddit_yt_dict[y] + 1\n",
    "\n",
    "        for b in current_file['body']: \n",
    "            if type(b) == str:\n",
    "                tokenised = b.split(\" \")\n",
    "                if y in tokenised: \n",
    "                    if y not in general_reddit_yt_dict.keys():\n",
    "                        general_reddit_yt_dict[y] = 1\n",
    "                    else: \n",
    "                        general_reddit_yt_dict[y] = general_reddit_yt_dict[y] + 1"
   ]
  },
  {
   "cell_type": "code",
   "execution_count": 24,
   "metadata": {},
   "outputs": [
    {
     "data": {
      "text/plain": [
       "{'Xbox': 365,\n",
       " 'Dani': 65,\n",
       " 'Markiplier': 2,\n",
       " 'PlayStation': 68,\n",
       " 'Vicksy': 3,\n",
       " 'VanossGaming': 1,\n",
       " 'tom': 2,\n",
       " 'Jerma985': 1,\n",
       " 'Team17': 125,\n",
       " 'Boggy': 20}"
      ]
     },
     "execution_count": 24,
     "metadata": {},
     "output_type": "execute_result"
    }
   ],
   "source": [
    "general_reddit_yt_dict"
   ]
  },
  {
   "cell_type": "markdown",
   "metadata": {},
   "source": [
    "### Searching for YouTubers in Data Steam Data"
   ]
  },
  {
   "cell_type": "code",
   "execution_count": 26,
   "metadata": {},
   "outputs": [
    {
     "data": {
      "text/html": [
       "<div>\n",
       "<style scoped>\n",
       "    .dataframe tbody tr th:only-of-type {\n",
       "        vertical-align: middle;\n",
       "    }\n",
       "\n",
       "    .dataframe tbody tr th {\n",
       "        vertical-align: top;\n",
       "    }\n",
       "\n",
       "    .dataframe thead th {\n",
       "        text-align: right;\n",
       "    }\n",
       "</style>\n",
       "<table border=\"1\" class=\"dataframe\">\n",
       "  <thead>\n",
       "    <tr style=\"text-align: right;\">\n",
       "      <th></th>\n",
       "      <th>Game</th>\n",
       "      <th>Review</th>\n",
       "      <th>Votes_Up</th>\n",
       "      <th>Rating</th>\n",
       "    </tr>\n",
       "  </thead>\n",
       "  <tbody>\n",
       "    <tr>\n",
       "      <th>0</th>\n",
       "      <td>Snakeybus</td>\n",
       "      <td>Snakeybus. Just look at that title. Genious.</td>\n",
       "      <td>0.0</td>\n",
       "      <td>Positive</td>\n",
       "    </tr>\n",
       "    <tr>\n",
       "      <th>1</th>\n",
       "      <td>Snakeybus</td>\n",
       "      <td>bus go broom</td>\n",
       "      <td>0.0</td>\n",
       "      <td>Positive</td>\n",
       "    </tr>\n",
       "    <tr>\n",
       "      <th>2</th>\n",
       "      <td>Snakeybus</td>\n",
       "      <td>I put a snake on a bus and got arrested what t...</td>\n",
       "      <td>0.0</td>\n",
       "      <td>Positive</td>\n",
       "    </tr>\n",
       "    <tr>\n",
       "      <th>3</th>\n",
       "      <td>Snakeybus</td>\n",
       "      <td>Amazing concept for a game. Super simple, but ...</td>\n",
       "      <td>1.0</td>\n",
       "      <td>Positive</td>\n",
       "    </tr>\n",
       "    <tr>\n",
       "      <th>4</th>\n",
       "      <td>Snakeybus</td>\n",
       "      <td>its like snake but a bus\\r\\n</td>\n",
       "      <td>0.0</td>\n",
       "      <td>Positive</td>\n",
       "    </tr>\n",
       "    <tr>\n",
       "      <th>...</th>\n",
       "      <td>...</td>\n",
       "      <td>...</td>\n",
       "      <td>...</td>\n",
       "      <td>...</td>\n",
       "    </tr>\n",
       "    <tr>\n",
       "      <th>636</th>\n",
       "      <td>Bloons TD 6</td>\n",
       "      <td>;)\\r\\n</td>\n",
       "      <td>0.0</td>\n",
       "      <td>Positive</td>\n",
       "    </tr>\n",
       "    <tr>\n",
       "      <th>637</th>\n",
       "      <td>Bloons TD 6</td>\n",
       "      <td>pretty good. got it on sale. i would suggest w...</td>\n",
       "      <td>0.0</td>\n",
       "      <td>Positive</td>\n",
       "    </tr>\n",
       "    <tr>\n",
       "      <th>638</th>\n",
       "      <td>Bloons TD 6</td>\n",
       "      <td>JILJKL</td>\n",
       "      <td>0.0</td>\n",
       "      <td>Positive</td>\n",
       "    </tr>\n",
       "    <tr>\n",
       "      <th>639</th>\n",
       "      <td>Bloons TD 6</td>\n",
       "      <td>den/den\\r\\n</td>\n",
       "      <td>0.0</td>\n",
       "      <td>Positive</td>\n",
       "    </tr>\n",
       "    <tr>\n",
       "      <th>640</th>\n",
       "      <td>Bloons TD 6</td>\n",
       "      <td>`very fun</td>\n",
       "      <td>0.0</td>\n",
       "      <td>Positive</td>\n",
       "    </tr>\n",
       "  </tbody>\n",
       "</table>\n",
       "<p>641 rows × 4 columns</p>\n",
       "</div>"
      ],
      "text/plain": [
       "            Game                                             Review  Votes_Up  \\\n",
       "0      Snakeybus       Snakeybus. Just look at that title. Genious.       0.0   \n",
       "1      Snakeybus                                       bus go broom       0.0   \n",
       "2      Snakeybus  I put a snake on a bus and got arrested what t...       0.0   \n",
       "3      Snakeybus  Amazing concept for a game. Super simple, but ...       1.0   \n",
       "4      Snakeybus                       its like snake but a bus\\r\\n       0.0   \n",
       "..           ...                                                ...       ...   \n",
       "636  Bloons TD 6                                             ;)\\r\\n       0.0   \n",
       "637  Bloons TD 6  pretty good. got it on sale. i would suggest w...       0.0   \n",
       "638  Bloons TD 6                                             JILJKL       0.0   \n",
       "639  Bloons TD 6                                        den/den\\r\\n       0.0   \n",
       "640  Bloons TD 6                                          `very fun       0.0   \n",
       "\n",
       "       Rating  \n",
       "0    Positive  \n",
       "1    Positive  \n",
       "2    Positive  \n",
       "3    Positive  \n",
       "4    Positive  \n",
       "..        ...  \n",
       "636  Positive  \n",
       "637  Positive  \n",
       "638  Positive  \n",
       "639  Positive  \n",
       "640  Positive  \n",
       "\n",
       "[641 rows x 4 columns]"
      ]
     },
     "execution_count": 26,
     "metadata": {},
     "output_type": "execute_result"
    }
   ],
   "source": [
    "steam_revs = pd.read_csv(\"SteamReviews.csv\")\n",
    "steam_revs"
   ]
  },
  {
   "cell_type": "markdown",
   "metadata": {},
   "source": [
    "### Searching through Cleaned Steam Data"
   ]
  },
  {
   "cell_type": "code",
   "execution_count": 29,
   "metadata": {},
   "outputs": [],
   "source": [
    "steam_revs = pd.read_csv(\"SteamReviews.csv\")\n",
    "\n",
    "steam_yt_data = {}\n",
    "\n",
    "for csv_file in csv_addresses: \n",
    "    \n",
    "    for y in ytChannels:\n",
    "\n",
    "        for r in steam_revs['Review']:\n",
    "            if type(r) == str: \n",
    "                tokenised = r.split(\" \") \n",
    "                if y in tokenised: \n",
    "                    if y not in steam_yt_data.keys():\n",
    "                        steam_yt_data[y] = 1\n",
    "                    else: \n",
    "                        steam_yt_data[y] = steam_yt_data[y] + 1\n"
   ]
  },
  {
   "cell_type": "code",
   "execution_count": 30,
   "metadata": {},
   "outputs": [
    {
     "data": {
      "text/plain": [
       "{'Xbox': 5, 'Team17': 10}"
      ]
     },
     "execution_count": 30,
     "metadata": {},
     "output_type": "execute_result"
    }
   ],
   "source": [
    "steam_yt_data"
   ]
  },
  {
   "cell_type": "markdown",
   "metadata": {},
   "source": [
    "### Searching Through Uncleaned Steam Data"
   ]
  },
  {
   "cell_type": "code",
   "execution_count": 33,
   "metadata": {},
   "outputs": [],
   "source": [
    "scraped_steam_revs = pd.read_csv(\"ScrappedSteamReviews.csv\")\n",
    "\n",
    "steam_yt_data_scraped = {}\n",
    "\n",
    "for csv_file in csv_addresses: \n",
    "    \n",
    "    for y in ytChannels:\n",
    "\n",
    "        for r in scraped_steam_revs['review']:\n",
    "            if type(r) == str: \n",
    "                tokenised = r.split(\" \") \n",
    "                if y in tokenised: \n",
    "                    if y not in steam_yt_data_scraped.keys():\n",
    "                        steam_yt_data_scraped[y] = 1\n",
    "                    else: \n",
    "                        steam_yt_data_scraped[y] = steam_yt_data_scraped[y] + 1"
   ]
  },
  {
   "cell_type": "code",
   "execution_count": 34,
   "metadata": {},
   "outputs": [
    {
     "data": {
      "text/plain": [
       "{'DanTDM': 10,\n",
       " 'Xbox': 105,\n",
       " 'PlayStation': 40,\n",
       " 'IGN': 10,\n",
       " 'Team17': 125,\n",
       " 'VanossGaming': 5,\n",
       " 'penguinz0': 5,\n",
       " 'Dani': 10,\n",
       " 'DangerouslyFunny': 5,\n",
       " 'ChilledChaos': 5,\n",
       " 'Leadhead': 5,\n",
       " 'Landfall': 30,\n",
       " 'Hopper': 5,\n",
       " 'PG': 5}"
      ]
     },
     "execution_count": 34,
     "metadata": {},
     "output_type": "execute_result"
    }
   ],
   "source": [
    "steam_yt_data_scraped"
   ]
  },
  {
   "cell_type": "markdown",
   "metadata": {},
   "source": [
    "All Youtube Mentions"
   ]
  },
  {
   "cell_type": "code",
   "execution_count": 35,
   "metadata": {},
   "outputs": [
    {
     "data": {
      "text/plain": [
       "{'Xbox': 365,\n",
       " 'Dani': 65,\n",
       " 'Markiplier': 2,\n",
       " 'PlayStation': 68,\n",
       " 'Vicksy': 3,\n",
       " 'VanossGaming': 1,\n",
       " 'tom': 2,\n",
       " 'Jerma985': 1,\n",
       " 'Team17': 125,\n",
       " 'Boggy': 20}"
      ]
     },
     "execution_count": 35,
     "metadata": {},
     "output_type": "execute_result"
    }
   ],
   "source": [
    "#reddit \n",
    "general_reddit_yt_dict"
   ]
  },
  {
   "cell_type": "code",
   "execution_count": 36,
   "metadata": {},
   "outputs": [
    {
     "data": {
      "text/plain": [
       "{'DanTDM': 10,\n",
       " 'Xbox': 105,\n",
       " 'PlayStation': 40,\n",
       " 'IGN': 10,\n",
       " 'Team17': 125,\n",
       " 'VanossGaming': 5,\n",
       " 'penguinz0': 5,\n",
       " 'Dani': 10,\n",
       " 'DangerouslyFunny': 5,\n",
       " 'ChilledChaos': 5,\n",
       " 'Leadhead': 5,\n",
       " 'Landfall': 30,\n",
       " 'Hopper': 5,\n",
       " 'PG': 5}"
      ]
     },
     "execution_count": 36,
     "metadata": {},
     "output_type": "execute_result"
    }
   ],
   "source": [
    "#steam \n",
    "steam_yt_data_scraped"
   ]
  }
 ],
 "metadata": {
  "kernelspec": {
   "display_name": "Python 3",
   "language": "python",
   "name": "python3"
  },
  "language_info": {
   "codemirror_mode": {
    "name": "ipython",
    "version": 3
   },
   "file_extension": ".py",
   "mimetype": "text/x-python",
   "name": "python",
   "nbconvert_exporter": "python",
   "pygments_lexer": "ipython3",
   "version": "3.12.7"
  }
 },
 "nbformat": 4,
 "nbformat_minor": 2
}
