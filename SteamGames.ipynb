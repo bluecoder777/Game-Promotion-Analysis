{
 "cells": [
  {
   "cell_type": "code",
   "execution_count": 19,
   "id": "ea23166e-ad6a-4226-b4d5-a2b646dcc236",
   "metadata": {},
   "outputs": [],
   "source": [
    "from selenium import webdriver\n",
    "from selenium.webdriver.common.by import By\n",
    "from selenium.webdriver.common.keys import Keys\n",
    "import time\n",
    "import pandas as pd \n",
    "import numpy as np\n",
    "\n",
    "# Set up the Selenium web driver (you'll need to download the appropriate driver, e.g., ChromeDriver)\n",
    "driver = webdriver.Chrome()\n"
   ]
  },
  {
   "cell_type": "markdown",
   "id": "d3429a85-c39b-437b-8c74-277539f6f37f",
   "metadata": {},
   "source": [
    "scrape the Genres and tags from the provided games list"
   ]
  },
  {
   "cell_type": "code",
   "execution_count": 226,
   "id": "6422eb7d-b1a9-432a-9334-042e2d2b28c9",
   "metadata": {},
   "outputs": [],
   "source": [
    "import requests\n",
    "from bs4 import BeautifulSoup\n",
    "\n",
    "def get_genres_and_tags(app_id):\n",
    "    url = f\"https://store.steampowered.com/app/{app_id}/\"\n",
    "    response = requests.get(url)\n",
    "\n",
    "    if response.status_code == 200:\n",
    "        soup = BeautifulSoup(response.content, 'html.parser')\n",
    "\n",
    "        # Extract genres (found under a specific div)\n",
    "        genres_div = soup.find('div', {'class': 'details_block'})\n",
    "        genres = []\n",
    "        if genres_div:\n",
    "            genre_links = genres_div.find_all('a', href=True)\n",
    "            for genre in genre_links:\n",
    "                if 'genre' in genre['href']:\n",
    "                    genres.append(genre.text.strip())\n",
    "\n",
    "        # Extract user tags (found under another div)\n",
    "        tags_div = soup.find('div', {'class': 'glance_tags popular_tags'})\n",
    "        tags = []\n",
    "        if tags_div:\n",
    "            tag_links = tags_div.find_all('a', {'class': 'app_tag'})\n",
    "            tags = [tag.text.strip() for tag in tag_links]\n",
    "\n",
    "        #print(f\"Genres: {', '.join(genres)}\")\n",
    "        #print(f\"Tags: {', '.join(tags)}\")\n",
    "\n",
    "    else:\n",
    "        print(f\"Error: {response.status_code}\")\n",
    "    return(genres, tags)\n",
    "\n",
    "\n",
    "gendict = {} \n",
    "tagdict = {}\n",
    "\n",
    "for id in id_list:\n",
    "    app_id = id  # Example for Hades\n",
    "    gens, tags = get_genres_and_tags(app_id)\n",
    "    for gen in gens: \n",
    "        if gen not in gendict.keys():\n",
    "            gendict[gen] = 1\n",
    "        else: \n",
    "            gendict[gen] = gendict[gen] + 1\n",
    "    for tag in tags: \n",
    "        if tag not in tagdict.keys():\n",
    "            tagdict[tag] = 1\n",
    "        else: \n",
    "            tagdict[tag] = tagdict[tag] + 1\n"
   ]
  },
  {
   "cell_type": "code",
   "execution_count": 227,
   "id": "f685acda-ea3b-4d32-b0d9-07b6ac48481d",
   "metadata": {},
   "outputs": [
    {
     "data": {
      "text/plain": [
       "{'Action': 8,\n",
       " 'Arena Shooter': 3,\n",
       " 'Multiplayer': 8,\n",
       " 'Shooter': 5,\n",
       " 'Casual': 6,\n",
       " 'Cartoony': 3,\n",
       " 'PvP': 5,\n",
       " '3D': 3,\n",
       " 'Funny': 5,\n",
       " 'Physics': 3,\n",
       " 'Comedy': 4}"
      ]
     },
     "execution_count": 227,
     "metadata": {},
     "output_type": "execute_result"
    }
   ],
   "source": [
    "tagRemoveList = []\n",
    "\n",
    "for tag in tagdict: \n",
    "    if tagdict[tag] < 3: \n",
    "        tagRemoveList.append(tag)\n",
    "\n",
    "tagdictSlimmed = tagdict\n",
    "for tagRem in tagRemoveList: \n",
    "    tagdictSlimmed.pop(tagRem)\n",
    "\n",
    "false_tags = ['First-Person', 'Singleplayer', 'Co-op', 'Online Co-Op', 'Local Multiplayer', 'Local Co-Op', 'Platformer', 'Strategy', 'FPS']\n",
    "false_removed_tags = []\n",
    "false_removed_tags = tagdictSlimmed\n",
    "\n",
    "for t in false_tags:\n",
    "    false_removed_tags.pop(t)\n",
    "\n",
    "false_removed_tags"
   ]
  },
  {
   "cell_type": "code",
   "execution_count": 228,
   "id": "6274bf28-aa4a-4709-bc70-1d782708dded",
   "metadata": {},
   "outputs": [
    {
     "data": {
      "text/plain": [
       "{'Action': 7,\n",
       " 'Indie': 4,\n",
       " 'Casual': 3,\n",
       " 'Free To Play': 2,\n",
       " 'Racing': 1,\n",
       " 'Strategy': 2}"
      ]
     },
     "execution_count": 228,
     "metadata": {},
     "output_type": "execute_result"
    }
   ],
   "source": [
    "gendict"
   ]
  },
  {
   "cell_type": "code",
   "execution_count": 233,
   "id": "b477f79a-13af-4fad-94a4-9c318dd4abf6",
   "metadata": {},
   "outputs": [
    {
     "name": "stdout",
     "output_type": "stream",
     "text": [
      "Rank 1: Rust\n",
      "Rank 2: Bloons TD 6\n",
      "Rank 3: Dead Cells\n",
      "Rank 4: Phasmophobia\n",
      "Rank 5: UFO 50\n",
      "Rank 6: Voidtrain\n",
      "Rank 7: Wizard of Legend 2\n",
      "Rank 8: Crime Scene Cleaner\n",
      "Rank 9: Raft\n",
      "Rank 10: Brawlhalla\n"
     ]
    }
   ],
   "source": [
    "import requests\n",
    "from bs4 import BeautifulSoup\n",
    "\n",
    "# Steam URL for top sellers with Indie (492) and Action (19) tags\n",
    "url = \"https://store.steampowered.com/search/?filter=topsellers&tags=492,19\"\n",
    "\n",
    "response = requests.get(url)\n",
    "\n",
    "# Check if the request was successful\n",
    "if response.status_code == 200:\n",
    "    # Parse the page content\n",
    "    soup = BeautifulSoup(response.content, 'html.parser')\n",
    "    \n",
    "    # Find the game titles (adjust if Steam changes structure)\n",
    "    filtered_games = soup.find_all('span', class_='title')\n",
    "    \n",
    "    # Print the top 10 filtered games\n",
    "    for i, game in enumerate(filtered_games[:10]):\n",
    "        print(f\"Rank {i+1}: {game.text}\")\n",
    "else:\n",
    "    print(\"Failed to retrieve the Steam top sellers page\")"
   ]
  },
  {
   "cell_type": "markdown",
   "id": "ac90cb24-a2ee-47f2-9031-4f7594583470",
   "metadata": {},
   "source": [
    "Extracting Reviews"
   ]
  },
  {
   "cell_type": "code",
   "execution_count": 47,
   "id": "e28c54cb-c3d1-4962-b971-e41058b24bdc",
   "metadata": {},
   "outputs": [
    {
     "name": "stdout",
     "output_type": "stream",
     "text": [
      "                                                Review  Votes_Up    Rating\n",
      "0    This game is a bit difficult for me, probably ...         7  Positive\n",
      "1    Great game! Good variety of weapons, simple ga...         4  Positive\n",
      "2    Its a fine game. But its really nothing specia...         2  Negative\n",
      "3    I cant recommend this game, and while i have a...         2  Negative\n",
      "4    Awesome game with a simple gameplay she's givi...         4  Positive\n",
      "..                                                 ...       ...       ...\n",
      "115  Amazing classic iso-rogue feel      my first t...         0  Positive\n",
      "116  I'm not very into rogue-likes, but this is one...         0  Positive\n",
      "117  So fun and the story as well it adds up as to ...         0  Positive\n",
      "118  A thrilling roguelike that excels in every cat...         0  Positive\n",
      "119  fun, fast, replayable up to some point\\nthe mu...         0  Positive\n",
      "\n",
      "[120 rows x 3 columns]\n"
     ]
    }
   ],
   "source": [
    "import requests\n",
    "import pandas as pd\n",
    "\n",
    "def get_reviews(app_id, num_reviews=100):\n",
    "    reviews_list = []\n",
    "    url = f'https://store.steampowered.com/appreviews/{app_id}?json=1&num_per_page=100'\n",
    "    total_reviews_fetched = 0\n",
    "    start_offset = 0\n",
    "\n",
    "    while total_reviews_fetched < num_reviews:\n",
    "        # Update the URL with the start offset to get the next page of reviews\n",
    "        paginated_url = f\"{url}&start_offset={start_offset}\"\n",
    "        response = requests.get(paginated_url)\n",
    "\n",
    "        if response.status_code == 200:\n",
    "            data = response.json()\n",
    "            reviews = data['reviews']\n",
    "\n",
    "            if not reviews:\n",
    "                print(\"No more reviews available.\")\n",
    "                break\n",
    "\n",
    "            # Add reviews to the list\n",
    "            for review in reviews:\n",
    "                review_text = review['review']\n",
    "                votes_up = review['votes_up']\n",
    "                rating = 'Positive' if review['voted_up'] else 'Negative'\n",
    "\n",
    "                reviews_list.append({\n",
    "                    'Review': review_text,\n",
    "                    'Votes_Up': votes_up,\n",
    "                    'Rating': rating\n",
    "                })\n",
    "\n",
    "            total_reviews_fetched += len(reviews)\n",
    "            start_offset += len(reviews)  # Increment the offset by the number of reviews fetched\n",
    "\n",
    "        else:\n",
    "            print(f\"Failed to retrieve reviews: {response.status_code}\")\n",
    "            break\n",
    "\n",
    "    # Convert the reviews list to a DataFrame\n",
    "    reviews_df = pd.DataFrame(reviews_list[:num_reviews])  # Limit to the requested number of reviews\n",
    "    return reviews_df\n",
    "\n",
    "# Example usage\n",
    "app_id = '1145360'  # Example for Hades\n",
    "reviews_df = get_reviews(app_id, num_reviews=150)\n",
    "\n",
    "if reviews_df is not None:\n",
    "    print(reviews_df.head(100))"
   ]
  },
  {
   "cell_type": "code",
   "execution_count": 59,
   "id": "c47f02a3-dbaf-4946-ab2b-8de5ae3724e4",
   "metadata": {},
   "outputs": [
    {
     "data": {
      "text/html": [
       "<div>\n",
       "<style scoped>\n",
       "    .dataframe tbody tr th:only-of-type {\n",
       "        vertical-align: middle;\n",
       "    }\n",
       "\n",
       "    .dataframe tbody tr th {\n",
       "        vertical-align: top;\n",
       "    }\n",
       "\n",
       "    .dataframe thead th {\n",
       "        text-align: right;\n",
       "    }\n",
       "</style>\n",
       "<table border=\"1\" class=\"dataframe\">\n",
       "  <thead>\n",
       "    <tr style=\"text-align: right;\">\n",
       "      <th></th>\n",
       "      <th>title</th>\n",
       "      <th>id</th>\n",
       "    </tr>\n",
       "  </thead>\n",
       "  <tbody>\n",
       "    <tr>\n",
       "      <th>0</th>\n",
       "      <td>Ratz Instagib</td>\n",
       "      <td>338170</td>\n",
       "    </tr>\n",
       "    <tr>\n",
       "      <th>1</th>\n",
       "      <td>The Riflemen</td>\n",
       "      <td>2022330</td>\n",
       "    </tr>\n",
       "    <tr>\n",
       "      <th>2</th>\n",
       "      <td>Party Animals</td>\n",
       "      <td>1260320</td>\n",
       "    </tr>\n",
       "    <tr>\n",
       "      <th>3</th>\n",
       "      <td>Crab Game</td>\n",
       "      <td>1782210</td>\n",
       "    </tr>\n",
       "    <tr>\n",
       "      <th>4</th>\n",
       "      <td>Bopl Battle</td>\n",
       "      <td>1686940</td>\n",
       "    </tr>\n",
       "    <tr>\n",
       "      <th>5</th>\n",
       "      <td>Worms W.M.D</td>\n",
       "      <td>327030</td>\n",
       "    </tr>\n",
       "    <tr>\n",
       "      <th>6</th>\n",
       "      <td>Worms Rumble</td>\n",
       "      <td>1186040</td>\n",
       "    </tr>\n",
       "    <tr>\n",
       "      <th>7</th>\n",
       "      <td>Worms_Ultimate_Mayhem</td>\n",
       "      <td>70600</td>\n",
       "    </tr>\n",
       "  </tbody>\n",
       "</table>\n",
       "</div>"
      ],
      "text/plain": [
       "                   title       id\n",
       "0          Ratz Instagib   338170\n",
       "1           The Riflemen  2022330\n",
       "2          Party Animals  1260320\n",
       "3              Crab Game  1782210\n",
       "4            Bopl Battle  1686940\n",
       "5            Worms W.M.D   327030\n",
       "6           Worms Rumble  1186040\n",
       "7  Worms_Ultimate_Mayhem    70600"
      ]
     },
     "execution_count": 59,
     "metadata": {},
     "output_type": "execute_result"
    }
   ],
   "source": [
    "#list of similar Games \n",
    "games_list = ['Ratz Instagib','The Riflemen', 'Party Animals', 'Crab Game', 'Bopl Battle', 'Worms W.M.D', 'Worms Rumble', 'Worms_Ultimate_Mayhem'] \n",
    "id_list = ['338170', '2022330', '1260320', '1782210', '1686940', '327030', '1186040', '70600']\n",
    "\n",
    "gamedf = pd.DataFrame({'title': games_list, 'id': id_list})\n",
    "gamedf"
   ]
  },
  {
   "cell_type": "code",
   "execution_count": null,
   "id": "3c19f2c3-2876-4f6e-b144-73edde7304bc",
   "metadata": {},
   "outputs": [],
   "source": [
    "genreList = ['indie']"
   ]
  }
 ],
 "metadata": {
  "kernelspec": {
   "display_name": "Python 3 (ipykernel)",
   "language": "python",
   "name": "python3"
  },
  "language_info": {
   "codemirror_mode": {
    "name": "ipython",
    "version": 3
   },
   "file_extension": ".py",
   "mimetype": "text/x-python",
   "name": "python",
   "nbconvert_exporter": "python",
   "pygments_lexer": "ipython3",
   "version": "3.12.4"
  }
 },
 "nbformat": 4,
 "nbformat_minor": 5
}
